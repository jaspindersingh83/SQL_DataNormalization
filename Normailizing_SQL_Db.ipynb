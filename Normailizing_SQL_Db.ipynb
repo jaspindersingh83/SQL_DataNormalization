{
 "cells": [
  {
   "cell_type": "code",
   "execution_count": 2,
   "metadata": {
    "collapsed": false
   },
   "outputs": [
    {
     "name": "stdout",
     "output_type": "stream",
     "text": [
      "(2010, 'Actor -- Leading Role', 'Javier Bardem', 0, 'Biutiful', 'Uxbal')\n",
      "(2010, 'Actor -- Leading Role', 'Jeff Bridges', 0, 'True Grit', 'Rooster Cogburn')\n",
      "(2010, 'Actor -- Leading Role', 'Jesse Eisenberg', 0, 'The Social Network', 'Mark Zuckerberg')\n",
      "(2010, 'Actor -- Leading Role', 'Colin Firth', 1, \"The King's Speech\", 'King George VI')\n",
      "(2010, 'Actor -- Leading Role', 'James Franco', 0, '127 Hours', 'Aron Ralston')\n",
      "(2010, 'Actor -- Supporting Role', 'Christian Bale', 1, 'The Fighter', 'Dicky Eklund')\n",
      "(2010, 'Actor -- Supporting Role', 'John Hawkes', 0, \"Winter's Bone\", 'Teardrop')\n",
      "(2010, 'Actor -- Supporting Role', 'Jeremy Renner', 0, 'The Town', 'James Coughlin')\n",
      "(2010, 'Actor -- Supporting Role', 'Mark Ruffalo', 0, 'The Kids Are All Right', 'Paul')\n",
      "(2010, 'Actor -- Supporting Role', 'Geoffrey Rush', 0, \"The King's Speech\", 'Lionel Logue')\n"
     ]
    },
    {
     "data": {
      "text/plain": [
       "<sqlite3.Cursor at 0x10f0e3490>"
      ]
     },
     "execution_count": 2,
     "metadata": {},
     "output_type": "execute_result"
    }
   ],
   "source": [
    "import sqlite3\n",
    "conn=sqlite3.connect(\"nominations.db\")\n",
    "first_ten=conn.execute(\"SELECT * from nominations limit 10;\").fetchall()\n",
    "for i in first_ten:\n",
    "    print (i)\n",
    "\n"
   ]
  },
  {
   "cell_type": "code",
   "execution_count": 3,
   "metadata": {
    "collapsed": false,
    "scrolled": false
   },
   "outputs": [],
   "source": [
    "### Creating ceremonies table \n",
    "q='CREATE TABLE ceremonies (id integer PRIMARY KEY,Year integer NOT NULL,Host text );'\n",
    "creating_ceremonies=conn.execute(q)\n",
    "\n"
   ]
  },
  {
   "cell_type": "code",
   "execution_count": 4,
   "metadata": {
    "collapsed": false,
    "scrolled": false
   },
   "outputs": [],
   "source": [
    "###Inserting Data into Ceremonies\n",
    "\n",
    "year_hosts=[(2010, \"Steve Martin\"),\n",
    "(2009, \"Hugh Jackman\"),\n",
    "(2008, \"Jon Stewart\"),\n",
    "(2007, \"Ellen DeGeneres\"),\n",
    "(2006, \"Jon Stewart\"),\n",
    "(2005, \"Chris Rock\"),\n",
    "(2004, \"Billy Crystal\"),\n",
    "(2003, \"Steve Martin\"),\n",
    "(2002, \"Whoopi Goldberg\"),\n",
    "(2001, \"Steve Martin\"),\n",
    "(2000, \"Billy Crystal\")]\n",
    "q1='INSERT INTO ceremonies(Year,Host) values( ?,?)'\n",
    "insert_data= conn.executemany(q1,year_hosts)\n",
    "conn.commit()\n",
    "\n"
   ]
  },
  {
   "cell_type": "code",
   "execution_count": 7,
   "metadata": {
    "collapsed": false
   },
   "outputs": [
    {
     "data": {
      "text/plain": [
       "[(1, 2010, 'Steve Martin'),\n",
       " (2, 2009, 'Hugh Jackman'),\n",
       " (3, 2008, 'Jon Stewart'),\n",
       " (4, 2007, 'Ellen DeGeneres'),\n",
       " (5, 2006, 'Jon Stewart'),\n",
       " (6, 2005, 'Chris Rock'),\n",
       " (7, 2004, 'Billy Crystal'),\n",
       " (8, 2003, 'Steve Martin'),\n",
       " (9, 2002, 'Whoopi Goldberg'),\n",
       " (10, 2001, 'Steve Martin'),\n",
       " (11, 2000, 'Billy Crystal')]"
      ]
     },
     "execution_count": 7,
     "metadata": {},
     "output_type": "execute_result"
    }
   ],
   "source": [
    "conn.execute(\"select * from ceremonies\").fetchall()\n",
    "\n"
   ]
  },
  {
   "cell_type": "code",
   "execution_count": 8,
   "metadata": {
    "collapsed": false
   },
   "outputs": [],
   "source": [
    "conn.execute(\"PRAGMA foreign_keys=ON\")\n",
    "q='CREATE TABLE nominations_two(id integer PRIMARY KEY,category text,nominee text,movie text,character text,won text,ceremony_id integer,foreign key(ceremony_id) references ceremonies(id));'\n",
    "conn.execute(q)\n",
    "conn.commit()\n",
    "\n",
    "\n"
   ]
  },
  {
   "cell_type": "code",
   "execution_count": 10,
   "metadata": {
    "collapsed": false
   },
   "outputs": [],
   "source": [
    "q1='SELECT nominations.category, nominations.nominee, nominations.movie, nominations.character, nominations.won, ceremonies.id FROM nominations INNER JOIN ceremonies ON nominations.year == ceremonies.year;'\n",
    "joined_nominations=conn.execute(q1).fetchall()\n",
    "\n",
    "\n",
    "\n",
    "\n"
   ]
  },
  {
   "cell_type": "code",
   "execution_count": 11,
   "metadata": {
    "collapsed": false
   },
   "outputs": [
    {
     "data": {
      "text/plain": [
       "<sqlite3.Cursor at 0x10f0e36c0>"
      ]
     },
     "execution_count": 11,
     "metadata": {},
     "output_type": "execute_result"
    }
   ],
   "source": [
    "insert_into=''' INSERT INTO nominations_two(category,nominee,movie,character,won,ceremony_id) VALUES (?,?,?,?,?,?)'''\n",
    "conn.executemany(insert_into,joined_nominations)\n",
    "\n",
    "\n",
    "\n"
   ]
  },
  {
   "cell_type": "code",
   "execution_count": 14,
   "metadata": {
    "collapsed": false
   },
   "outputs": [
    {
     "data": {
      "text/plain": [
       "<sqlite3.Cursor at 0x10f0e3810>"
      ]
     },
     "execution_count": 14,
     "metadata": {},
     "output_type": "execute_result"
    }
   ],
   "source": [
    "conn.execute(\"Drop Table nominations;\")\n"
   ]
  },
  {
   "cell_type": "code",
   "execution_count": 16,
   "metadata": {
    "collapsed": false
   },
   "outputs": [
    {
     "ename": "OperationalError",
     "evalue": "no such table: nominations_two",
     "output_type": "error",
     "traceback": [
      "\u001b[0;31m---------------------------------------------------------------------------\u001b[0m",
      "\u001b[0;31mOperationalError\u001b[0m                          Traceback (most recent call last)",
      "\u001b[0;32m<ipython-input-16-fa6da5f41dca>\u001b[0m in \u001b[0;36m<module>\u001b[0;34m()\u001b[0m\n\u001b[0;32m----> 1\u001b[0;31m \u001b[0mconn\u001b[0m\u001b[0;34m.\u001b[0m\u001b[0mexecute\u001b[0m\u001b[0;34m(\u001b[0m\u001b[0;34m\"alter table nominations_two rename to nominations;\"\u001b[0m\u001b[0;34m)\u001b[0m\u001b[0;34m\u001b[0m\u001b[0m\n\u001b[0m\u001b[1;32m      2\u001b[0m \u001b[0mconn\u001b[0m\u001b[0;34m.\u001b[0m\u001b[0mcommit\u001b[0m\u001b[0;34m(\u001b[0m\u001b[0;34m)\u001b[0m\u001b[0;34m\u001b[0m\u001b[0m\n",
      "\u001b[0;31mOperationalError\u001b[0m: no such table: nominations_two"
     ]
    }
   ],
   "source": [
    "conn.execute(\"alter table nominations_two rename to nominations;\")\n"
   ]
  },
  {
   "cell_type": "code",
   "execution_count": 17,
   "metadata": {
    "collapsed": true
   },
   "outputs": [],
   "source": [
    "conn.commit()"
   ]
  },
  {
   "cell_type": "code",
   "execution_count": 18,
   "metadata": {
    "collapsed": false
   },
   "outputs": [
    {
     "data": {
      "text/plain": [
       "<sqlite3.Cursor at 0x10f783e30>"
      ]
     },
     "execution_count": 18,
     "metadata": {},
     "output_type": "execute_result"
    }
   ],
   "source": [
    "q2='''CREATE TABLE movies (id integer PRIMARY KEY,movie text)'''\n",
    "q3='''CREATE TABLE actors(id integer PRIMARY KEY,actor text)'''\n",
    "q4='''CREATE TABLE movies_actors(id integer PRIMARY KEY,movie_id integer,actor_id integer,foreign key(movie_id) references movies(id), foreign key (actor_id) references actors(id));'''\n",
    "conn.execute(q2)\n",
    "conn.execute(q3)\n",
    "conn.execute(q4)\n",
    "\n"
   ]
  },
  {
   "cell_type": "code",
   "execution_count": null,
   "metadata": {
    "collapsed": true
   },
   "outputs": [],
   "source": []
  }
 ],
 "metadata": {
  "kernelspec": {
   "display_name": "Python 3",
   "language": "python",
   "name": "python3"
  },
  "language_info": {
   "codemirror_mode": {
    "name": "ipython",
    "version": 3
   },
   "file_extension": ".py",
   "mimetype": "text/x-python",
   "name": "python",
   "nbconvert_exporter": "python",
   "pygments_lexer": "ipython3",
   "version": "3.6.0"
  }
 },
 "nbformat": 4,
 "nbformat_minor": 2
}
